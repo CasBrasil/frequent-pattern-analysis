{
 "cells": [
  {
   "cell_type": "code",
   "execution_count": 1,
   "metadata": {},
   "outputs": [],
   "source": [
    "import ast\n",
    "import configparser\n",
    "import pandas as pd\n",
    "import psycopg2"
   ]
  },
  {
   "cell_type": "code",
   "execution_count": 2,
   "metadata": {},
   "outputs": [],
   "source": [
    "path = 'outputs/by-store'"
   ]
  },
  {
   "cell_type": "code",
   "execution_count": 3,
   "metadata": {},
   "outputs": [],
   "source": [
    "config = configparser.ConfigParser()"
   ]
  },
  {
   "cell_type": "code",
   "execution_count": 4,
   "metadata": {},
   "outputs": [
    {
     "data": {
      "text/plain": [
       "['config.ini']"
      ]
     },
     "execution_count": 4,
     "metadata": {},
     "output_type": "execute_result"
    }
   ],
   "source": [
    "config.read('config.ini')"
   ]
  },
  {
   "cell_type": "code",
   "execution_count": 5,
   "metadata": {},
   "outputs": [],
   "source": [
    "def open_connection():\n",
    "    conn = \\\n",
    "        psycopg2.connect( \\\n",
    "            host = config['ro-prod']['host'],\n",
    "            database = config['ro-prod']['name'],\n",
    "            user = config['ro-prod']['user'],\n",
    "            password = config['ro-prod']['pass'])\n",
    "    \n",
    "    conn.autocommit = True\n",
    "    cur = conn.cursor()\n",
    "    \n",
    "    return conn, cur"
   ]
  },
  {
   "cell_type": "code",
   "execution_count": 6,
   "metadata": {},
   "outputs": [],
   "source": [
    "def close_connection(conn, cur):\n",
    "    cur.close()\n",
    "    conn.close()"
   ]
  },
  {
   "cell_type": "code",
   "execution_count": 7,
   "metadata": {},
   "outputs": [],
   "source": [
    "def get_product_name(barcode, cur):\n",
    "    barcode_iqvia = barcode.zfill(15)\n",
    "    \n",
    "    query = f\" \\\n",
    "        SELECT IP.\\\"PRODUTO\\\" \\\n",
    "        FROM iqvia_produtos IP \\\n",
    "        WHERE IP.\\\"EAN\\\" = '{barcode_iqvia}';\"            \n",
    "    cur.execute(query)\n",
    "    res = cur.fetchone()\n",
    "\n",
    "    if res:\n",
    "        return ''.join(res).strip()\n",
    "    else:\n",
    "        query = f\" \\\n",
    "            SELECT DSP.\\\"name\\\" \\\n",
    "            FROM data_storeproduct DSP \\\n",
    "            WHERE DSP.barcode = '{barcode}' \\\n",
    "            ORDER BY DSP.last_change DESC;\"            \n",
    "        cur.execute(query)\n",
    "        res = cur.fetchone()\n",
    "\n",
    "        if res:\n",
    "            return ''.join(res).strip()\n",
    "        else:\n",
    "            return barcode"
   ]
  },
  {
   "cell_type": "code",
   "execution_count": 8,
   "metadata": {},
   "outputs": [],
   "source": [
    "def translate(product_names, barcodes):\n",
    "    barcodes = ast.literal_eval(barcodes)\n",
    "    products = [product_names[barcode] for barcode in barcodes]\n",
    "\n",
    "    return ', '.join(products)"
   ]
  },
  {
   "cell_type": "markdown",
   "metadata": {},
   "source": [
    "---"
   ]
  },
  {
   "cell_type": "code",
   "execution_count": 9,
   "metadata": {},
   "outputs": [],
   "source": [
    "df = pd.read_csv(f\"{path}/association_rules.csv\")"
   ]
  },
  {
   "cell_type": "code",
   "execution_count": 10,
   "metadata": {},
   "outputs": [],
   "source": [
    "df = df[df['lift'] >= 1].sort_values(by = 'lift', ascending = False)"
   ]
  },
  {
   "cell_type": "code",
   "execution_count": 11,
   "metadata": {},
   "outputs": [
    {
     "data": {
      "text/plain": [
       "(523, 5)"
      ]
     },
     "execution_count": 11,
     "metadata": {},
     "output_type": "execute_result"
    }
   ],
   "source": [
    "df.shape"
   ]
  },
  {
   "cell_type": "code",
   "execution_count": 12,
   "metadata": {},
   "outputs": [
    {
     "name": "stdout",
     "output_type": "stream",
     "text": [
      "Total barcodes: 672\n"
     ]
    }
   ],
   "source": [
    "print(f\"Total barcodes: {df['antecedent'].apply(lambda x: len(ast.literal_eval(x))).sum()}\")"
   ]
  },
  {
   "cell_type": "code",
   "execution_count": 13,
   "metadata": {},
   "outputs": [],
   "source": [
    "barcodes = []\n",
    "\n",
    "for item in df['antecedent'].values.tolist():\n",
    "    barcodes.extend(ast.literal_eval(item))\n",
    "\n",
    "barcodes = list(set(barcodes))"
   ]
  },
  {
   "cell_type": "code",
   "execution_count": 14,
   "metadata": {},
   "outputs": [
    {
     "name": "stdout",
     "output_type": "stream",
     "text": [
      "Unique barcodes: 104\n"
     ]
    }
   ],
   "source": [
    "print(f\"Unique barcodes: {len(barcodes)}\")"
   ]
  },
  {
   "cell_type": "code",
   "execution_count": 15,
   "metadata": {},
   "outputs": [],
   "source": [
    "conn, curr = open_connection()"
   ]
  },
  {
   "cell_type": "code",
   "execution_count": 16,
   "metadata": {},
   "outputs": [
    {
     "name": "stdout",
     "output_type": "stream",
     "text": [
      "CPU times: user 14.9 ms, sys: 6.09 ms, total: 20.9 ms\n",
      "Wall time: 34.6 s\n"
     ]
    }
   ],
   "source": [
    "%%time\n",
    "product_names = {}\n",
    "\n",
    "for barcode in barcodes:\n",
    "    product_names[barcode] = get_product_name(barcode, curr)"
   ]
  },
  {
   "cell_type": "code",
   "execution_count": 17,
   "metadata": {},
   "outputs": [],
   "source": [
    "close_connection(conn, curr)"
   ]
  },
  {
   "cell_type": "code",
   "execution_count": 18,
   "metadata": {},
   "outputs": [],
   "source": [
    "df['antecedent'] = df['antecedent'].apply(lambda x: translate(product_names, x))"
   ]
  },
  {
   "cell_type": "code",
   "execution_count": 19,
   "metadata": {},
   "outputs": [],
   "source": [
    "df['consequent'] = df['consequent'].apply(lambda x: translate(product_names, x))"
   ]
  },
  {
   "cell_type": "code",
   "execution_count": 20,
   "metadata": {},
   "outputs": [],
   "source": [
    "df.to_csv(f\"{path}/association_rules_translated.csv\", index = False)"
   ]
  },
  {
   "cell_type": "code",
   "execution_count": 21,
   "metadata": {},
   "outputs": [],
   "source": [
    "barcodes_not_found = [item for item in product_names.values() if item.isnumeric()]"
   ]
  },
  {
   "cell_type": "code",
   "execution_count": 22,
   "metadata": {},
   "outputs": [
    {
     "name": "stdout",
     "output_type": "stream",
     "text": [
      "Unknown barcodes: 17\n"
     ]
    }
   ],
   "source": [
    "print(f\"Unknown barcodes: {len(barcodes_not_found)}\")"
   ]
  },
  {
   "cell_type": "code",
   "execution_count": 23,
   "metadata": {},
   "outputs": [],
   "source": [
    "df = pd.DataFrame(data = barcodes_not_found, columns = ['barcode']).reset_index(drop = True)"
   ]
  },
  {
   "cell_type": "code",
   "execution_count": 24,
   "metadata": {},
   "outputs": [],
   "source": [
    "df.to_csv(f\"{path}/barcodes_not_found.csv\", index = False)"
   ]
  }
 ],
 "metadata": {
  "kernelspec": {
   "display_name": "Python 3.10.4 ('.env': venv)",
   "language": "python",
   "name": "python3"
  },
  "language_info": {
   "codemirror_mode": {
    "name": "ipython",
    "version": 3
   },
   "file_extension": ".py",
   "mimetype": "text/x-python",
   "name": "python",
   "nbconvert_exporter": "python",
   "pygments_lexer": "ipython3",
   "version": "3.10.4"
  },
  "orig_nbformat": 4,
  "vscode": {
   "interpreter": {
    "hash": "2ae411cd9156f3a29c62bfdeae6b4023f73edbdab12486dc61b77446a58c6657"
   }
  }
 },
 "nbformat": 4,
 "nbformat_minor": 2
}
