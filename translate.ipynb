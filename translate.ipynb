{
 "cells": [
  {
   "cell_type": "code",
   "execution_count": 21,
   "metadata": {},
   "outputs": [],
   "source": [
    "import ast\n",
    "import configparser\n",
    "import pandas as pd\n",
    "import psycopg2"
   ]
  },
  {
   "cell_type": "code",
   "execution_count": 22,
   "metadata": {},
   "outputs": [],
   "source": [
    "NOT_FOUND = []"
   ]
  },
  {
   "cell_type": "code",
   "execution_count": 23,
   "metadata": {},
   "outputs": [],
   "source": [
    "config = configparser.ConfigParser()"
   ]
  },
  {
   "cell_type": "code",
   "execution_count": 24,
   "metadata": {},
   "outputs": [
    {
     "data": {
      "text/plain": [
       "['config.ini']"
      ]
     },
     "execution_count": 24,
     "metadata": {},
     "output_type": "execute_result"
    }
   ],
   "source": [
    "config.read('config.ini')"
   ]
  },
  {
   "cell_type": "code",
   "execution_count": 25,
   "metadata": {},
   "outputs": [],
   "source": [
    "def open_connection():\n",
    "    conn = \\\n",
    "        psycopg2.connect( \\\n",
    "            host = config['ro-prod']['host'],\n",
    "            database = config['ro-prod']['name'],\n",
    "            user = config['ro-prod']['user'],\n",
    "            password = config['ro-prod']['pass'])\n",
    "    \n",
    "    conn.autocommit = True\n",
    "    cur = conn.cursor()\n",
    "    \n",
    "    return conn, cur"
   ]
  },
  {
   "cell_type": "code",
   "execution_count": 26,
   "metadata": {},
   "outputs": [],
   "source": [
    "CONN, CUR = open_connection()"
   ]
  },
  {
   "cell_type": "code",
   "execution_count": 27,
   "metadata": {},
   "outputs": [],
   "source": [
    "def close_connection(conn, cur):\n",
    "    cur.close()\n",
    "    conn.close()"
   ]
  },
  {
   "cell_type": "code",
   "execution_count": 28,
   "metadata": {},
   "outputs": [],
   "source": [
    "def get_product_name(barcode):\n",
    "    barcode_iqvia = barcode.zfill(15)\n",
    "    \n",
    "    query = f\" \\\n",
    "        SELECT IP.\\\"PRODUTO\\\" \\\n",
    "        FROM iqvia_produtos IP \\\n",
    "        WHERE IP.\\\"EAN\\\" = '{barcode_iqvia}';\"            \n",
    "    CUR.execute(query)\n",
    "    res = CUR.fetchone()\n",
    "\n",
    "    if res:\n",
    "        return ''.join(res).strip()\n",
    "    else:\n",
    "        query = f\" \\\n",
    "            SELECT DSP.\\\"name\\\" \\\n",
    "            FROM data_storeproduct DSP \\\n",
    "            WHERE DSP.barcode = '{barcode}' \\\n",
    "            ORDER BY DSP.last_change DESC;\"            \n",
    "        CUR.execute(query)\n",
    "        res = CUR.fetchone()\n",
    "\n",
    "        if res:\n",
    "            return ''.join(res).strip()\n",
    "        else:\n",
    "            return barcode"
   ]
  },
  {
   "cell_type": "code",
   "execution_count": 29,
   "metadata": {},
   "outputs": [],
   "source": [
    "def translate(list_):\n",
    "    list_ = ast.literal_eval(list_)\n",
    "    products = []\n",
    "    \n",
    "    for barcode in list_:\n",
    "        name = get_product_name(barcode)\n",
    "        products.append(name)\n",
    "\n",
    "        if name.isnumeric():\n",
    "            NOT_FOUND.append(name)\n",
    "    \n",
    "    return ', '.join(products)"
   ]
  },
  {
   "cell_type": "code",
   "execution_count": 30,
   "metadata": {},
   "outputs": [],
   "source": [
    "path = 'outputs/by-store'"
   ]
  },
  {
   "cell_type": "code",
   "execution_count": 31,
   "metadata": {},
   "outputs": [],
   "source": [
    "df = pd.read_csv(f\"{path}/association_rules.csv\")"
   ]
  },
  {
   "cell_type": "code",
   "execution_count": 32,
   "metadata": {},
   "outputs": [],
   "source": [
    "df = df[df['lift'] >= 1].sort_values(by = 'lift', ascending = False)"
   ]
  },
  {
   "cell_type": "code",
   "execution_count": 33,
   "metadata": {},
   "outputs": [],
   "source": [
    "df['antecedent'] = df['antecedent'].apply(lambda x: translate(x))"
   ]
  },
  {
   "cell_type": "code",
   "execution_count": 34,
   "metadata": {},
   "outputs": [],
   "source": [
    "df['consequent'] = df['consequent'].apply(lambda x: translate(x))"
   ]
  },
  {
   "cell_type": "code",
   "execution_count": 35,
   "metadata": {},
   "outputs": [],
   "source": [
    "close_connection(CONN, CUR)"
   ]
  },
  {
   "cell_type": "code",
   "execution_count": 36,
   "metadata": {},
   "outputs": [],
   "source": [
    "df.to_csv(f\"{path}/association_rules_translated.csv\")"
   ]
  },
  {
   "cell_type": "code",
   "execution_count": 37,
   "metadata": {},
   "outputs": [],
   "source": [
    "NOT_FOUND = list(set(NOT_FOUND))"
   ]
  },
  {
   "cell_type": "code",
   "execution_count": 38,
   "metadata": {},
   "outputs": [
    {
     "data": {
      "text/plain": [
       "32"
      ]
     },
     "execution_count": 38,
     "metadata": {},
     "output_type": "execute_result"
    }
   ],
   "source": [
    "len(NOT_FOUND)"
   ]
  },
  {
   "cell_type": "code",
   "execution_count": 39,
   "metadata": {},
   "outputs": [],
   "source": [
    "df_not_found = pd.DataFrame(data = NOT_FOUND, columns = ['barcode']).reset_index(drop = True)"
   ]
  },
  {
   "cell_type": "code",
   "execution_count": 40,
   "metadata": {},
   "outputs": [],
   "source": [
    "df_not_found.to_csv(f\"{path}/not-found.csv\", index = False)"
   ]
  }
 ],
 "metadata": {
  "kernelspec": {
   "display_name": "Python 3.10.4 ('.env': venv)",
   "language": "python",
   "name": "python3"
  },
  "language_info": {
   "codemirror_mode": {
    "name": "ipython",
    "version": 3
   },
   "file_extension": ".py",
   "mimetype": "text/x-python",
   "name": "python",
   "nbconvert_exporter": "python",
   "pygments_lexer": "ipython3",
   "version": "3.10.4"
  },
  "orig_nbformat": 4,
  "vscode": {
   "interpreter": {
    "hash": "2ae411cd9156f3a29c62bfdeae6b4023f73edbdab12486dc61b77446a58c6657"
   }
  }
 },
 "nbformat": 4,
 "nbformat_minor": 2
}
